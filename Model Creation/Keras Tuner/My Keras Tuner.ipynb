{
 "cells": [
  {
   "cell_type": "markdown",
   "metadata": {},
   "source": [
    "# Import libraries"
   ]
  },
  {
   "cell_type": "code",
   "execution_count": 1,
   "metadata": {
    "id": "55hbWBhiKUiV"
   },
   "outputs": [],
   "source": [
    "import tensorflow\n",
    "from tensorflow.keras.preprocessing.image import ImageDataGenerator\n",
    "from tensorflow.keras.optimizers import Adam\n",
    "from tensorflow.keras.callbacks import ModelCheckpoint\n",
    "from tensorflow.keras.models import Model\n",
    "from tensorflow.keras.layers import Input,Activation,Conv2D,MaxPooling2D,add,Dropout,Flatten,Dense\n",
    "from tensorflow.keras.utils import plot_model\n",
    "from tensorflow.keras.layers import concatenate\n",
    "from tensorflow.keras.preprocessing.image import img_to_array\n",
    "import matplotlib.pyplot as plt\n",
    "from kerastuner import RandomSearch\n",
    "from kerastuner.engine.hyperparameters import HyperParameters\n",
    "import os\n",
    "import cv2\n",
    "import numpy as np"
   ]
  },
  {
   "cell_type": "markdown",
   "metadata": {},
   "source": [
    "# Importing Training Data and Validation Data"
   ]
  },
  {
   "cell_type": "code",
   "execution_count": 2,
   "metadata": {},
   "outputs": [],
   "source": [
    "train_data =[]\n",
    "train_label = []\n",
    "valid_data =[]\n",
    "valid_label = []\n",
    "\n",
    "train_mask_path = 'dataset/train/with_mask'\n",
    "train_nomask_path = 'dataset/train/without_mask'\n",
    "valid_mask_path = 'dataset/valid/with_mask'\n",
    "valid_nomask_path = 'dataset/valid/without_mask'\n",
    "\n",
    "train_mask_imgs=os.listdir(train_mask_path)\n",
    "train_nomask_imgs=os.listdir(train_nomask_path)\n",
    "valid_mask_imgs=os.listdir(valid_mask_path)\n",
    "valid_nomask_imgs=os.listdir(valid_nomask_path)\n",
    "\n",
    "train_mask_cnt = 0\n",
    "for j in train_mask_imgs:\n",
    "    train_mask_cnt += 1\n",
    "    img = cv2.imread(train_mask_path+'/'+j,0)\n",
    "    train_data.append(img_to_array(img))\n",
    "    \n",
    "for k in range(0,train_mask_cnt):\n",
    "    train_label.append(1)\n",
    "    \n",
    "train_nomask_cnt = 0\n",
    "for j in train_nomask_imgs:\n",
    "    train_nomask_cnt += 1\n",
    "    img = cv2.imread(train_nomask_path+'/'+j,0)\n",
    "    train_data.append(img_to_array(img))\n",
    "    \n",
    "for k in range(0,train_nomask_cnt):\n",
    "    train_label.append(0)\n",
    "    \n",
    "valid_mask_cnt = 0\n",
    "for j in valid_mask_imgs:\n",
    "    valid_mask_cnt += 1\n",
    "    img = cv2.imread(valid_mask_path+'/'+j,0)\n",
    "    valid_data.append(img_to_array(img))\n",
    "\n",
    "for k in range(0,valid_mask_cnt):\n",
    "    valid_label.append(1)\n",
    "\n",
    "valid_nomask_cnt = 0\n",
    "for j in valid_nomask_imgs:\n",
    "    valid_nomask_cnt += 1\n",
    "    img = cv2.imread(valid_nomask_path+'/'+j,0)\n",
    "    valid_data.append(img_to_array(img))\n",
    "    \n",
    "for k in range(0,valid_nomask_cnt):\n",
    "    valid_label.append(0)"
   ]
  },
  {
   "cell_type": "code",
   "execution_count": 3,
   "metadata": {},
   "outputs": [
    {
     "data": {
      "text/plain": [
       "(50, 50)"
      ]
     },
     "execution_count": 3,
     "metadata": {},
     "output_type": "execute_result"
    }
   ],
   "source": [
    "len(train_data),len(valid_data)"
   ]
  },
  {
   "cell_type": "markdown",
   "metadata": {},
   "source": [
    "# Reshaping data to feed to our CNN"
   ]
  },
  {
   "cell_type": "code",
   "execution_count": 4,
   "metadata": {},
   "outputs": [],
   "source": [
    "train_data = np.reshape(train_data, (len(train_data), 224, 224,1))\n",
    "valid_data = np.reshape(valid_data, (len(valid_data), 224, 224,1))"
   ]
  },
  {
   "cell_type": "code",
   "execution_count": 5,
   "metadata": {},
   "outputs": [],
   "source": [
    "train_label = np.reshape(train_label, (len(train_label)))\n",
    "valid_label = np.reshape(valid_label, (len(valid_label)))"
   ]
  },
  {
   "cell_type": "code",
   "execution_count": 6,
   "metadata": {},
   "outputs": [
    {
     "data": {
      "text/plain": [
       "((50, 224, 224, 1), (50,))"
      ]
     },
     "execution_count": 6,
     "metadata": {},
     "output_type": "execute_result"
    }
   ],
   "source": [
    "train_data.shape,train_label.shape"
   ]
  },
  {
   "cell_type": "markdown",
   "metadata": {},
   "source": [
    "# Creating our CNN model and applying Keras Tuner"
   ]
  },
  {
   "cell_type": "code",
   "execution_count": 7,
   "metadata": {
    "id": "_LBAs2gVKf9Z"
   },
   "outputs": [],
   "source": [
    "def inception_module(layer_in, f1, f2_in, f2_out, f3_in, f3_out, f4_out):\n",
    "\t# 1x1 conv\n",
    "\tconv1 = Conv2D(f1, (1,1), padding='same', activation='relu')(layer_in)\n",
    "\t# 3x3 conv\n",
    "\tconv3 = Conv2D(f2_in, (1,1), padding='same', activation='relu')(layer_in)\n",
    "\tconv3 = Conv2D(f2_out, (3,3), padding='same', activation='relu')(conv3)\n",
    "\t# 5x5 conv\n",
    "\tconv5 = Conv2D(f3_in, (1,1), padding='same', activation='relu')(layer_in)\n",
    "\tconv5 = Conv2D(f3_out, (5,5), padding='same', activation='relu')(conv5)\n",
    "\t# 3x3 max pooling\n",
    "\tpool = MaxPooling2D((3,3), strides=(1,1), padding='same')(layer_in)\n",
    "\tpool = Conv2D(f4_out, (1,1), padding='same', activation='relu')(pool)\n",
    "\t# concatenate filters, assumes filters/channels last\n",
    "\tlayer_out = concatenate([conv1, conv3, conv5, pool], axis=-1)\n",
    "\treturn layer_out\n",
    "\n",
    "def residual_module(layer_in, n_filters):\n",
    "\tmerge_input = layer_in\n",
    "\t# check if the number of filters needs to be increase, assumes channels last format\n",
    "\tif layer_in.shape[-1] != n_filters:\n",
    "\t\tmerge_input = Conv2D(n_filters, (1,1), padding='same', activation='relu', kernel_initializer='he_normal')(layer_in)\n",
    "\t# conv1\n",
    "\tconv1 = Conv2D(n_filters, (3,3), padding='same', activation='relu', kernel_initializer='he_normal')(layer_in)\n",
    "\t# conv2\n",
    "\tconv2 = Conv2D(n_filters, (3,3), padding='same', activation='linear', kernel_initializer='he_normal')(conv1)\n",
    "\t# add filters, assumes filters/channels last\n",
    "\tlayer_out = add([conv2, merge_input])\n",
    "\t# activation function\n",
    "\tlayer_out = Activation('relu')(layer_out)\n",
    "\treturn layer_out"
   ]
  },
  {
   "cell_type": "code",
   "execution_count": 10,
   "metadata": {},
   "outputs": [],
   "source": [
    "def build_model(hp):  \n",
    "\n",
    "    # define model input\n",
    "    visible = Input(shape=(224, 224, 3))\n",
    "\n",
    "    layer = Conv2D(filters=hp.Int('conv_1_filter', min_value=32, max_value=128, step=16),\n",
    "                   kernel_size=hp.Choice('conv_1_kernel', values = [3,5]), \n",
    "                   padding='same', activation='relu', kernel_initializer='he_normal')(visible)\n",
    "    \n",
    "    layer = MaxPooling2D(pool_size=hp.Choice('maxpool_1_kernel', values = [3,5]), \n",
    "                         strides=(2,2), padding='valid')(layer)\n",
    "    \n",
    "    layer = inception_module(layer, 32, 16, 16, 16, 16, 16)\n",
    "    layer = residual_module(layer,\n",
    "                           n_filters=hp.Int('res_1_filter', min_value=32, max_value=64, step=16))\n",
    "    layer = residual_module(layer,\n",
    "                           n_filters=hp.Int('res_2_filter', min_value=32, max_value=64, step=16))\n",
    "\n",
    "    layer = Conv2D(filters=hp.Int('conv_2_filter', min_value=32, max_value=128, step=16),\n",
    "                   kernel_size=hp.Choice('conv_2_kernel', values = [3,5]),\n",
    "                   padding='same', activation='relu', kernel_initializer='he_normal')(layer)\n",
    "    layer = MaxPooling2D(pool_size=hp.Choice('maxpool_2_kernel', values = [3,5]), \n",
    "                         strides=(2,2), padding='valid')(layer)\n",
    "\n",
    "    layer = Flatten()(layer)\n",
    "    layer = Dropout(0.5)(layer)\n",
    "    \n",
    "    layer = Dense(units=2, activation='softmax')(layer)\n",
    "    \n",
    "    model = Model(iSnputs=visible, outputs=layer)\n",
    "\n",
    "\n",
    "    model.compile(optimizer=tensorflow.keras.optimizers.Adam(hp.Choice('learning_rate', values=[1e-2, 1e-3])),\n",
    "              loss='sparse_categorical_crossentropy',\n",
    "              metrics=['accuracy'])\n",
    "\n",
    "    return model"
   ]
  },
  {
   "cell_type": "code",
   "execution_count": 12,
   "metadata": {},
   "outputs": [],
   "source": [
    "tuner_search=RandomSearch(build_model, objective='val_accuracy', max_trials=10)"
   ]
  },
  {
   "cell_type": "code",
   "execution_count": 13,
   "metadata": {},
   "outputs": [
    {
     "name": "stdout",
     "output_type": "stream",
     "text": [
      "Search space summary\n",
      "Default search space size: 9\n",
      "conv_1_filter (Int)\n",
      "{'default': None, 'conditions': [], 'min_value': 32, 'max_value': 128, 'step': 16, 'sampling': None}\n",
      "conv_1_kernel (Choice)\n",
      "{'default': 3, 'conditions': [], 'values': [3, 5], 'ordered': True}\n",
      "maxpool_1_kernel (Choice)\n",
      "{'default': 3, 'conditions': [], 'values': [3, 5], 'ordered': True}\n",
      "res_1_filter (Int)\n",
      "{'default': None, 'conditions': [], 'min_value': 32, 'max_value': 64, 'step': 16, 'sampling': None}\n",
      "res_2_filter (Int)\n",
      "{'default': None, 'conditions': [], 'min_value': 32, 'max_value': 64, 'step': 16, 'sampling': None}\n",
      "conv_2_filter (Int)\n",
      "{'default': None, 'conditions': [], 'min_value': 32, 'max_value': 128, 'step': 16, 'sampling': None}\n",
      "conv_2_kernel (Choice)\n",
      "{'default': 3, 'conditions': [], 'values': [3, 5], 'ordered': True}\n",
      "maxpool_2_kernel (Choice)\n",
      "{'default': 3, 'conditions': [], 'values': [3, 5], 'ordered': True}\n",
      "learning_rate (Choice)\n",
      "{'default': 0.01, 'conditions': [], 'values': [0.01, 0.001], 'ordered': True}\n"
     ]
    }
   ],
   "source": [
    "tuner_search.search_space_summary()"
   ]
  },
  {
   "cell_type": "code",
   "execution_count": 14,
   "metadata": {
    "scrolled": true
   },
   "outputs": [
    {
     "name": "stdout",
     "output_type": "stream",
     "text": [
      "Trial 10 Complete [00h 00m 52s]\n",
      "val_accuracy: 0.6399999856948853\n",
      "\n",
      "Best val_accuracy So Far: 0.6399999856948853\n",
      "Total elapsed time: 00h 11m 25s\n",
      "INFO:tensorflow:Oracle triggered exit\n"
     ]
    }
   ],
   "source": [
    "tuner_search.search(train_data,train_label,epochs=5,validation_data=(valid_data,valid_label))"
   ]
  },
  {
   "cell_type": "code",
   "execution_count": 15,
   "metadata": {},
   "outputs": [
    {
     "name": "stdout",
     "output_type": "stream",
     "text": [
      "Results summary\n",
      "Results in ./untitled_project\n",
      "Showing 10 best trials\n",
      "Objective(name='val_accuracy', direction='max')\n",
      "Trial summary\n",
      "Hyperparameters:\n",
      "conv_1_filter: 32\n",
      "conv_1_kernel: 3\n",
      "maxpool_1_kernel: 5\n",
      "res_1_filter: 32\n",
      "res_2_filter: 48\n",
      "conv_2_filter: 48\n",
      "conv_2_kernel: 3\n",
      "maxpool_2_kernel: 5\n",
      "learning_rate: 0.001\n",
      "Score: 0.6399999856948853\n",
      "Trial summary\n",
      "Hyperparameters:\n",
      "conv_1_filter: 32\n",
      "conv_1_kernel: 3\n",
      "maxpool_1_kernel: 5\n",
      "res_1_filter: 32\n",
      "res_2_filter: 48\n",
      "conv_2_filter: 96\n",
      "conv_2_kernel: 3\n",
      "maxpool_2_kernel: 3\n",
      "learning_rate: 0.001\n",
      "Score: 0.6399999856948853\n",
      "Trial summary\n",
      "Hyperparameters:\n",
      "conv_1_filter: 96\n",
      "conv_1_kernel: 5\n",
      "maxpool_1_kernel: 5\n",
      "res_1_filter: 32\n",
      "res_2_filter: 48\n",
      "conv_2_filter: 112\n",
      "conv_2_kernel: 5\n",
      "maxpool_2_kernel: 3\n",
      "learning_rate: 0.001\n",
      "Score: 0.6200000047683716\n",
      "Trial summary\n",
      "Hyperparameters:\n",
      "conv_1_filter: 48\n",
      "conv_1_kernel: 5\n",
      "maxpool_1_kernel: 5\n",
      "res_1_filter: 32\n",
      "res_2_filter: 64\n",
      "conv_2_filter: 64\n",
      "conv_2_kernel: 5\n",
      "maxpool_2_kernel: 3\n",
      "learning_rate: 0.001\n",
      "Score: 0.6200000047683716\n",
      "Trial summary\n",
      "Hyperparameters:\n",
      "conv_1_filter: 80\n",
      "conv_1_kernel: 3\n",
      "maxpool_1_kernel: 5\n",
      "res_1_filter: 48\n",
      "res_2_filter: 48\n",
      "conv_2_filter: 32\n",
      "conv_2_kernel: 5\n",
      "maxpool_2_kernel: 3\n",
      "learning_rate: 0.01\n",
      "Score: 0.6000000238418579\n",
      "Trial summary\n",
      "Hyperparameters:\n",
      "conv_1_filter: 80\n",
      "conv_1_kernel: 3\n",
      "maxpool_1_kernel: 3\n",
      "res_1_filter: 48\n",
      "res_2_filter: 64\n",
      "conv_2_filter: 96\n",
      "conv_2_kernel: 3\n",
      "maxpool_2_kernel: 3\n",
      "learning_rate: 0.01\n",
      "Score: 0.6000000238418579\n",
      "Trial summary\n",
      "Hyperparameters:\n",
      "conv_1_filter: 48\n",
      "conv_1_kernel: 5\n",
      "maxpool_1_kernel: 3\n",
      "res_1_filter: 48\n",
      "res_2_filter: 48\n",
      "conv_2_filter: 96\n",
      "conv_2_kernel: 3\n",
      "maxpool_2_kernel: 5\n",
      "learning_rate: 0.01\n",
      "Score: 0.5600000023841858\n",
      "Trial summary\n",
      "Hyperparameters:\n",
      "conv_1_filter: 80\n",
      "conv_1_kernel: 5\n",
      "maxpool_1_kernel: 5\n",
      "res_1_filter: 32\n",
      "res_2_filter: 64\n",
      "conv_2_filter: 48\n",
      "conv_2_kernel: 5\n",
      "maxpool_2_kernel: 5\n",
      "learning_rate: 0.01\n",
      "Score: 0.5\n",
      "Trial summary\n",
      "Hyperparameters:\n",
      "conv_1_filter: 112\n",
      "conv_1_kernel: 5\n",
      "maxpool_1_kernel: 5\n",
      "res_1_filter: 64\n",
      "res_2_filter: 64\n",
      "conv_2_filter: 64\n",
      "conv_2_kernel: 3\n",
      "maxpool_2_kernel: 5\n",
      "learning_rate: 0.01\n",
      "Score: 0.5\n",
      "Trial summary\n",
      "Hyperparameters:\n",
      "conv_1_filter: 80\n",
      "conv_1_kernel: 3\n",
      "maxpool_1_kernel: 3\n",
      "res_1_filter: 48\n",
      "res_2_filter: 48\n",
      "conv_2_filter: 112\n",
      "conv_2_kernel: 5\n",
      "maxpool_2_kernel: 3\n",
      "learning_rate: 0.01\n",
      "Score: 0.5\n"
     ]
    }
   ],
   "source": [
    "tuner_search.results_summary()"
   ]
  },
  {
   "cell_type": "code",
   "execution_count": 16,
   "metadata": {},
   "outputs": [],
   "source": [
    "model=tuner_search.get_best_models(num_models=1)[0]"
   ]
  },
  {
   "cell_type": "code",
   "execution_count": 17,
   "metadata": {},
   "outputs": [
    {
     "name": "stdout",
     "output_type": "stream",
     "text": [
      "Model: \"model\"\n",
      "__________________________________________________________________________________________________\n",
      "Layer (type)                    Output Shape         Param #     Connected to                     \n",
      "==================================================================================================\n",
      "input_1 (InputLayer)            [(None, 224, 224, 1) 0                                            \n",
      "__________________________________________________________________________________________________\n",
      "conv2d (Conv2D)                 (None, 224, 224, 32) 320         input_1[0][0]                    \n",
      "__________________________________________________________________________________________________\n",
      "max_pooling2d (MaxPooling2D)    (None, 110, 110, 32) 0           conv2d[0][0]                     \n",
      "__________________________________________________________________________________________________\n",
      "conv2d_2 (Conv2D)               (None, 110, 110, 16) 528         max_pooling2d[0][0]              \n",
      "__________________________________________________________________________________________________\n",
      "conv2d_4 (Conv2D)               (None, 110, 110, 16) 528         max_pooling2d[0][0]              \n",
      "__________________________________________________________________________________________________\n",
      "max_pooling2d_1 (MaxPooling2D)  (None, 110, 110, 32) 0           max_pooling2d[0][0]              \n",
      "__________________________________________________________________________________________________\n",
      "conv2d_1 (Conv2D)               (None, 110, 110, 32) 1056        max_pooling2d[0][0]              \n",
      "__________________________________________________________________________________________________\n",
      "conv2d_3 (Conv2D)               (None, 110, 110, 16) 2320        conv2d_2[0][0]                   \n",
      "__________________________________________________________________________________________________\n",
      "conv2d_5 (Conv2D)               (None, 110, 110, 16) 6416        conv2d_4[0][0]                   \n",
      "__________________________________________________________________________________________________\n",
      "conv2d_6 (Conv2D)               (None, 110, 110, 16) 528         max_pooling2d_1[0][0]            \n",
      "__________________________________________________________________________________________________\n",
      "concatenate (Concatenate)       (None, 110, 110, 80) 0           conv2d_1[0][0]                   \n",
      "                                                                 conv2d_3[0][0]                   \n",
      "                                                                 conv2d_5[0][0]                   \n",
      "                                                                 conv2d_6[0][0]                   \n",
      "__________________________________________________________________________________________________\n",
      "conv2d_8 (Conv2D)               (None, 110, 110, 32) 23072       concatenate[0][0]                \n",
      "__________________________________________________________________________________________________\n",
      "conv2d_9 (Conv2D)               (None, 110, 110, 32) 9248        conv2d_8[0][0]                   \n",
      "__________________________________________________________________________________________________\n",
      "conv2d_7 (Conv2D)               (None, 110, 110, 32) 2592        concatenate[0][0]                \n",
      "__________________________________________________________________________________________________\n",
      "add (Add)                       (None, 110, 110, 32) 0           conv2d_9[0][0]                   \n",
      "                                                                 conv2d_7[0][0]                   \n",
      "__________________________________________________________________________________________________\n",
      "activation (Activation)         (None, 110, 110, 32) 0           add[0][0]                        \n",
      "__________________________________________________________________________________________________\n",
      "conv2d_11 (Conv2D)              (None, 110, 110, 48) 13872       activation[0][0]                 \n",
      "__________________________________________________________________________________________________\n",
      "conv2d_12 (Conv2D)              (None, 110, 110, 48) 20784       conv2d_11[0][0]                  \n",
      "__________________________________________________________________________________________________\n",
      "conv2d_10 (Conv2D)              (None, 110, 110, 48) 1584        activation[0][0]                 \n",
      "__________________________________________________________________________________________________\n",
      "add_1 (Add)                     (None, 110, 110, 48) 0           conv2d_12[0][0]                  \n",
      "                                                                 conv2d_10[0][0]                  \n",
      "__________________________________________________________________________________________________\n",
      "activation_1 (Activation)       (None, 110, 110, 48) 0           add_1[0][0]                      \n",
      "__________________________________________________________________________________________________\n",
      "conv2d_13 (Conv2D)              (None, 110, 110, 48) 20784       activation_1[0][0]               \n",
      "__________________________________________________________________________________________________\n",
      "max_pooling2d_2 (MaxPooling2D)  (None, 53, 53, 48)   0           conv2d_13[0][0]                  \n",
      "__________________________________________________________________________________________________\n",
      "flatten (Flatten)               (None, 134832)       0           max_pooling2d_2[0][0]            \n",
      "__________________________________________________________________________________________________\n",
      "dropout (Dropout)               (None, 134832)       0           flatten[0][0]                    \n",
      "__________________________________________________________________________________________________\n",
      "dense (Dense)                   (None, 2)            269666      dropout[0][0]                    \n",
      "==================================================================================================\n",
      "Total params: 373,298\n",
      "Trainable params: 373,298\n",
      "Non-trainable params: 0\n",
      "__________________________________________________________________________________________________\n"
     ]
    }
   ],
   "source": [
    "model.summary()"
   ]
  },
  {
   "cell_type": "code",
   "execution_count": null,
   "metadata": {},
   "outputs": [],
   "source": []
  }
 ],
 "metadata": {
  "colab": {
   "collapsed_sections": [],
   "name": "face_mask_detection.ipynb",
   "provenance": []
  },
  "kernelspec": {
   "display_name": "Python 3",
   "language": "python",
   "name": "python3"
  },
  "language_info": {
   "codemirror_mode": {
    "name": "ipython",
    "version": 3
   },
   "file_extension": ".py",
   "mimetype": "text/x-python",
   "name": "python",
   "nbconvert_exporter": "python",
   "pygments_lexer": "ipython3",
   "version": "3.8.5"
  }
 },
 "nbformat": 4,
 "nbformat_minor": 1
}
